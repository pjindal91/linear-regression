{
 "cells": [
  {
   "cell_type": "markdown",
   "metadata": {},
   "source": [
    "# Linear Regression "
   ]
  },
  {
   "cell_type": "markdown",
   "metadata": {},
   "source": [
    "Throughout the notebook we will use the diabetes dataset to understand the maths"
   ]
  },
  {
   "cell_type": "code",
   "execution_count": 106,
   "metadata": {},
   "outputs": [],
   "source": [
    "from sklearn import datasets\n",
    "import pandas as pd\n",
    "import statsmodels.api as sm\n",
    "import numpy as np\n",
    "\n",
    "diabetes_X, diabetes_y = datasets.load_diabetes(return_X_y=True)\n",
    "\n",
    "X = pd.DataFrame(diabetes_X)\n",
    "X.columns = ['age', 'sex', 'bmi', 'bp', 's1', 's2', 's3', 's4', 's5', 's6']\n",
    "\n",
    "y = pd.DataFrame(diabetes_y)\n",
    "y.columns = ['disease']"
   ]
  },
  {
   "cell_type": "markdown",
   "metadata": {},
   "source": [
    "### OLS Linear Regression Equation"
   ]
  },
  {
   "cell_type": "markdown",
   "metadata": {},
   "source": [
    "Classical Linear Regression Equation and Residual Sum of Squares(RSS) is given by:\n",
    "\n",
    "$$\n",
    "\\hat{y} = \\hat{\\beta_0} + \\hat{\\beta_1}x \\\\\n",
    "RSS = (y_1 - \\hat{\\beta_0}+\\hat{\\beta_1}x_1)^2+(y_2 - \\hat{\\beta_0} + \\hat{\\beta_1}x_2)^2 + ... + (y_n - \\hat{\\beta_0} + \\hat{\\beta_1}x_n)^2 \\\\\n",
    "RSS = \\sum_{i=0}^n(y_i - \\hat{\\beta_0}+\\hat{\\beta_1}x_i)^2 \\\\\n",
    "$$"
   ]
  },
  {
   "cell_type": "markdown",
   "metadata": {},
   "source": [
    "### Computing $\\beta_0$ and $\\beta_1$\n",
    "\n",
    "To solve for $\\beta_0$ and $\\beta_1$, the normal Equations for the above are given by:\n",
    "\n",
    "$$\n",
    "\\frac{\\delta{RSS}}{\\delta{\\beta_0}} = -2\\sum (y_i - \\hat{\\beta_0}+\\hat{\\beta_1}x_i) = 0 \\\\\n",
    "\\frac{\\delta{RSS}}{\\delta{\\beta_1}} = -2x_i\\sum (y_i - \\hat{\\beta_0}+\\hat{\\beta_1}x_i) = 0 \\\\\n",
    "$$"
   ]
  },
  {
   "cell_type": "markdown",
   "metadata": {},
   "source": [
    "Solving the first normal equation for $\\beta_0$:\n",
    "\n",
    "$$\n",
    "\\frac{\\delta{RSS}}{\\delta{\\beta_0}} = -2\\sum (y_i - \\hat{\\beta_0}+\\hat{\\beta_1}x_i) = 0 \\\\\n",
    "\\sum{y_i} - n\\hat{\\beta_0}-\\hat{\\beta_1}\\sum{x_i} = 0 \\\\\n",
    "\\underline{\\hat{\\beta_0} = \\bar{y} - \\hat{\\beta_1}\\bar{x}} \\;\\;\\;\\;\\;\n",
    "where \\;\n",
    "\\bar{x} = \\frac{\\sum{x_i}}{n} \\;\\;\\;\n",
    "\\bar{y} = \\frac{\\sum{y_i}}{n}\n",
    "$$"
   ]
  },
  {
   "cell_type": "markdown",
   "metadata": {},
   "source": [
    "Solving the second normal equation for $\\beta_1$:\n",
    "\n",
    "$$\n",
    "\\frac{\\delta{RSS}}{\\delta{\\beta_1}} = \\sum{x_i}(y_i - \\hat{\\beta_0}+\\hat{\\beta_1}x_i) = 0 \\\\\n",
    "\\sum{x_i}(y_i - \\bar{y} + \\hat{\\beta_1}\\bar{x} - \\hat{\\beta_1}x_i) = 0 \\;\\;\\;\\;\n",
    "using \\; \\hat{\\beta_0} = \\bar{y} - \\hat{\\beta_1}\\bar{x} \\\\\n",
    "\\sum{x_i}(y_i-\\bar{y}) = \\hat{\\beta_1}\\sum{(x_i-\\bar{x})x_i} \\\\\n",
    "\\hat{\\beta_1} = \\frac{\\sum{(y_i-\\bar{y})x_i}}{\\sum{(x_i-\\bar{x})x_i}} \\\\\n",
    "\\underline{\\hat{\\beta_1}= \\frac{\\sum{(y_i-\\bar{y})(x_i-\\bar{x}})}{\\sum{(x_i-\\bar{x})^2}}} \\;\\;\\;\\;\\;\n",
    "where \\;\n",
    "\\sum{(y_i-\\bar{y})}\\bar{x} = 0 \\;\\;\n",
    "\\sum{(x_i-\\bar{x})}\\bar{x} = 0\n",
    "$$\n"
   ]
  },
  {
   "cell_type": "code",
   "execution_count": 117,
   "metadata": {},
   "outputs": [
    {
     "name": "stdout",
     "output_type": "stream",
     "text": [
      "RSS is 2528481.7816048963\n",
      "Coeff for age is 304.1830745282948\n",
      "Intercept is 152.13348416289608\n"
     ]
    }
   ],
   "source": [
    "# For this example we will chose the Age feature solely \n",
    "\n",
    "X_age = X.age\n",
    "\n",
    "X_age = sm.add_constant(X_age, prepend=False)\n",
    "model = sm.OLS(y, X_age)\n",
    "results = model.fit()\n",
    "rss = results.ssr\n",
    "print(f\"RSS is {rss}\")\n",
    "print(f\"Coeff for age is {results.params[0]}\")\n",
    "print(f\"Intercept is {results.params[1]}\")"
   ]
  },
  {
   "cell_type": "code",
   "execution_count": 159,
   "metadata": {},
   "outputs": [
    {
     "name": "stdout",
     "output_type": "stream",
     "text": [
      "Calculated coeff is 304.1830745282948\n",
      "Calculated intercept is 152.13348416289594\n",
      "\n",
      "It can be seen that the values calculated using the formulas are same as the values calculated by the statsmodel. Our maths holds up!\n"
     ]
    }
   ],
   "source": [
    "# Lets verify if based on our formulas of coeff and intercept we reach the same values\n",
    "\n",
    "y_mean = [np.mean(y.disease)] * 442\n",
    "\n",
    "y_diff = y.disease - y_mean\n",
    "x_mean = 0 # Data is 0 mean\n",
    "coeff = np.sum((y.disease - y_mean) * (X_age.age - x_mean)) / np.sum(X_age.age**2)\n",
    "print(f\"Calculated coeff is {coeff}\")\n",
    "\n",
    "intercept = y_mean[0] - coeff * x_mean\n",
    "print(f\"Calculated intercept is {intercept}\")\n",
    "\n",
    "print()\n",
    "print(\"It can be seen that the values calculated using the formulas are same as the values calculated by the statsmodel. Our maths holds up!\")"
   ]
  },
  {
   "cell_type": "markdown",
   "metadata": {},
   "source": [
    "### Standard Error of Coefficients\n",
    "\n",
    "Since we don't have the true mean of the $y$ but only sample mean based on $n$ observations, we don't know the true $\\beta_0$ and $\\beta_1$, we only have $\\hat{\\beta_0}$ and $\\hat{\\beta_1}$. Let's see how far are we from true $\\beta_0$ and $\\beta_1$ by using standard error, which is given by:\n",
    "$$\n",
    "SE(\\hat{\\beta_0})^2 = \\sigma^2[\\frac{1}{n} + \\frac{\\bar{x}^2}{\\sum_{i=1}^n(x_i-\\bar{x})^2}] \\\\\n",
    "SE(\\hat{\\beta_1})^2 = \\frac{\\sigma^2}{\\sum_{i=1}^n(x_i-\\bar{x})^2} \\;\\;\\;\n",
    "$$\n",
    "where $\\sigma^2$ is variance of $\\epsilon$ which is the uncontrolled error in $y = \\beta_0 + \\beta_1x + \\epsilon$, which again is something we don't know.\n",
    "\n",
    "The approximation of $\\sigma$ is given by Residual Standard Error\n",
    "$$\n",
    "\\sigma = RSE = \\sqrt{\\frac{RSS}{(n-2)}}\n",
    "$$"
   ]
  },
  {
   "cell_type": "code",
   "execution_count": 158,
   "metadata": {},
   "outputs": [
    {
     "name": "stdout",
     "output_type": "stream",
     "text": [
      "Standard error for coeff is 75.8059991270286\n",
      "Standard error for intercept is 3.605723675064678\n",
      "Computed standard error for coeff is 75.80599912702861\n",
      "Computed standard error for intercept is 3.6057236750646777\n",
      "\n",
      "HOORAY! Values are same.\n"
     ]
    }
   ],
   "source": [
    "print(f\"Standard error for coeff is {results.bse[0]}\")\n",
    "print(f\"Standard error for intercept is {results.bse[1]}\")\n",
    "\n",
    "# Lets try to verify this as well based on the above formula\n",
    "\n",
    "sigma = np.sqrt(rss/(442-2))\n",
    "\n",
    "se_coeff = np.sqrt((sigma**2)/np.sum((X_age.age - x_mean)**2))\n",
    "print(f\"Computed standard error for coeff is {se_coeff}\")\n",
    "\n",
    "se_intercept = np.sqrt(sigma**2*(1/442)) # The second term with x_mean can be avoided since x_mean is zero\n",
    "print(f\"Computed standard error for intercept is {se_intercept}\")\n",
    "\n",
    "print()\n",
    "print(\"HOORAY! Values are same.\") "
   ]
  },
  {
   "cell_type": "markdown",
   "metadata": {},
   "source": [
    "### Testing Coefficients\n",
    "In order to know whether a particular feature is important or not, we use the null hypothesis and see if it can be discarded. \n",
    "\n",
    "The null hypothesis $H_0$ says that there is no relationship between a feature $X$ and output $Y$, hence $\\beta = 0$\n",
    "If there is relationship between the feature and ouput, then $\\beta$ would be sufficiently far from 0. This means that the value of $\\beta$ would be atleast some number of standard deviations away from zero which is given by $t-statistic$, resulting in $p-value$ being < 0.05\n",
    "\n",
    "Based on the above, $t-statistic$ is given by:\n",
    "$$\n",
    "t = \\frac{\\hat{\\beta_1} - 0}{SE({\\hat{\\beta_1}})}\n",
    "$$\n",
    "\n",
    "Using this, we can compute the $p-value$ to check if the value of the coefficient is small enough to indicate that there is relationship between feature and output is not due to chance, and null hypothesis can be discarded."
   ]
  },
  {
   "cell_type": "code",
   "execution_count": 164,
   "metadata": {},
   "outputs": [
    {
     "name": "stdout",
     "output_type": "stream",
     "text": [
      "t-statistic of coeff from the model is 4.012651743018033\n",
      "t-statistic of intercept from the model is 42.192219335877745\n",
      "Calculated t-statistic of coeff is 4.012651743018033\n",
      "Calculated t-statistic of intercept is 42.19221933587771\n",
      "\n",
      "Holds up again!\n"
     ]
    }
   ],
   "source": [
    "# T-statistics from the model\n",
    "print(f\"t-statistic of coeff from the model is {results.tvalues[0]}\")\n",
    "print(f\"t-statistic of intercept from the model is {results.tvalues[1]}\")\n",
    "\n",
    "t_coeff = coeff / se_coeff\n",
    "t_intercept = intercept / se_intercept\n",
    "\n",
    "print(f\"Calculated t-statistic of coeff is {t_coeff}\")\n",
    "print(f\"Calculated t-statistic of intercept is {t_intercept}\")\n",
    "\n",
    "print()\n",
    "print(\"Holds up again!\") "
   ]
  },
  {
   "cell_type": "markdown",
   "metadata": {},
   "source": [
    "### Model Accuracy\n",
    "\n",
    "RSE and RSS defined above provide the measure of fit of the model. Higher the values, worse the model fit. However the absolute value of RSE and RSS might not be very intuitive if the scale of Y is not looked at along with it.\n",
    "\n",
    "$$\n",
    "RSE = \\sqrt{\\frac{RSS}{(n-p-1)}} \\;\\; p = Number \\; of \\; features\n",
    "$$\n",
    "\n",
    "\n",
    "\n",
    "To address it, we use $R^2$, which indicates the amount of variance in the data that is explained by the model. It is given by:\n",
    "\n",
    "$$\n",
    "R^2 = \\frac{TSS - RSS}{TSS} \\\\\n",
    "\\underline{R^2 = 1 - \\frac{RSS}{TSS}} \\;\\;\\;\\; where \\; TSS = \\sum(y_i - \\bar{y})^2\n",
    "$$\n",
    "\n",
    "TSS simply indicates the amount of variance in target variable already present. \n",
    "\n",
    "Another commonly used approach is to calculate the Adjusted R-sqaure. This takes into number of predictors used in the model. This is to help filter out the predictors that might not have significant impact on the model. Their addition might reduce the R-sqaure value a bit but not enough to distinguish it from noise predictors. Its formula is given by:\n",
    "\n",
    "$$\n",
    "Adj. R^2 = 1 - \\frac{RSS/(n-p-1)}{TSS/(n-1)}\n",
    "$$"
   ]
  },
  {
   "cell_type": "markdown",
   "metadata": {},
   "source": [
    "### Testing Model\n",
    "\n",
    "Similar to how we test the coefficients to see if they reject the null hypothesis and have any relationship with the target, we use the $f-statistic$ to see if the predictors and response have any relationship. Using this, we can discard the null hypothesis which says there is no relationship between the predictors and response. If that is the case then the $f-statistic$ value would be close to 1 and the p-value of $f-statistic$ would be greater than 0.05 and hence not signifcant to reject the null hypotheses. $f-statistic$ is calculated as following:\n",
    "\n",
    "$$\n",
    "F = \\frac{(TSS - RSS)/p}{RSS/(n-p-1)}\n",
    "$$"
   ]
  },
  {
   "cell_type": "code",
   "execution_count": 168,
   "metadata": {},
   "outputs": [
    {
     "name": "stdout",
     "output_type": "stream",
     "text": [
      "RSS of the model is 1263983.156255485\n",
      "TSS of the model is 2621009.124434389\n",
      "\n",
      "R-sqaure of the model is 0.5177494254132934\n",
      "Adjusted R-sqaure of the model is 0.506560316954205\n",
      "F-score of the model is 46.27262550062717\n"
     ]
    }
   ],
   "source": [
    "X_OLS = sm.add_constant(X, prepend=False)\n",
    "model = sm.OLS(y, X_OLS)\n",
    "results = model.fit()\n",
    "print(f\"RSS of the model is {results.ssr}\")\n",
    "print(f\"TSS of the model is {results.centered_tss}\")\n",
    "print()\n",
    "print(f\"R-sqaure of the model is {results.rsquared}\")\n",
    "print(f\"Adjusted R-sqaure of the model is {results.rsquared_adj}\")\n",
    "print(f\"F-score of the model is {results.fvalue}\")"
   ]
  },
  {
   "cell_type": "markdown",
   "metadata": {},
   "source": [
    "Lets verify!\n",
    "\n",
    "$$\n",
    "R^2 = 1 - \\frac{RSS}{TSS} \\;\\; = 1 - \\frac{1263983.15}{2621009.12} \\;\\; = 0.51 \\\\\n",
    "Adj. R^2 = 1 - \\frac{RSS/(n-p-1)}{TSS/(n-1)} \\;\\; = 1 - \\frac{1263983.15/(442-10-1)}{2621009.12/(432-1)} \\;\\;\n",
    "= 1 - \\frac{3002.33}{6081.22} \\;\\; = 1 - 0.493\\;\\;  = 0.507\n",
    "$$\n",
    "\n",
    "It seems like R-sqaure and Adjusted R-sqaure values are correct according to our formula. Lets see F-statistic now\n",
    "\n",
    "$$\n",
    "F = \\frac{(TSS - RSS)/p}{RSS/(n-p-1)} \\;\\; = \\frac{(2621009.12 - 1263983.15)/10}{1263983.15/(442-10-1)} \\;\\;\n",
    "= \\frac{135702.59}{2932.67} \\;\\; = 46.27\n",
    "$$\n",
    "\n",
    "WOHOOO!"
   ]
  }
 ],
 "metadata": {
  "kernelspec": {
   "display_name": "Python 3",
   "language": "python",
   "name": "python3"
  },
  "language_info": {
   "codemirror_mode": {
    "name": "ipython",
    "version": 3
   },
   "file_extension": ".py",
   "mimetype": "text/x-python",
   "name": "python",
   "nbconvert_exporter": "python",
   "pygments_lexer": "ipython3",
   "version": "3.7.4"
  }
 },
 "nbformat": 4,
 "nbformat_minor": 2
}
